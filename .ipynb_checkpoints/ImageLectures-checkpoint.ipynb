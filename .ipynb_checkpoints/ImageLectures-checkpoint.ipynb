{
 "cells": [
  {
   "cell_type": "markdown",
   "metadata": {},
   "source": [
    "# 1.A Comprenez comment un ordinateur voit une image "
   ]
  },
  {
   "cell_type": "markdown",
   "metadata": {},
   "source": [
    "### -> Une fonction de l'intensité"
   ]
  },
  {
   "cell_type": "markdown",
   "metadata": {},
   "source": [
    "Une image est une **fonction qui quantifie l'intensité lumineuse de n'importe quel point dans l'image**. Dans une image en noir et blanc, l'intensité est le niveau de gris : plus un point est sombre, plus son niveau de gris est faible.\n",
    "\n",
    "Comme une image est une surface délimitée du plan, on peut se munir d'un **repère cartésien** et repérer la position de ses points par les coordonnées (x,y), avec x son abscisse et y son ordonnée. Plus formellement, l'image comme fonction mathématique s’écrit comme ceci [en noir et blanc]"
   ]
  },
  {
   "cell_type": "code",
   "execution_count": 2,
   "metadata": {},
   "outputs": [
    {
     "data": {
      "image/png": "[encoded data removed]",
      "text/plain": [
       "<IPython.core.display.Image object>"
      ]
     },
     "execution_count": 2,
     "metadata": {},
     "output_type": "execute_result"
    }
   ],
   "source": [
    "from IPython.display import Image\n",
    "Image(filename=\"pictures/1.A.1.PNG\") "
   ]
  },
  {
   "cell_type": "markdown",
   "metadata": {},
   "source": [
    "En **couleurs**, une image est un mélange des **trois couleurs primaires (rouge, vert et bleu)** - ce qui correspond non plus à une seule fonction mais trois fonctions $r(x,y)$ , $g(x,y)$ et $b(x,y)$ -> **modèle de l'espace RGB (Red Green Blue)**\n",
    "\n",
    "L'image est représentée comme une fonction vectorielle :"
   ]
  },
  {
   "cell_type": "code",
   "execution_count": 3,
   "metadata": {},
   "outputs": [
    {
     "data": {
      "image/png": "[encoded data removed]",
      "text/plain": [
       "<IPython.core.display.Image object>"
      ]
     },
     "execution_count": 3,
     "metadata": {},
     "output_type": "execute_result"
    }
   ],
   "source": [
    "from IPython.display import Image\n",
    "Image(filename=\"pictures/1.A.2.PNG\") "
   ]
  },
  {
   "cell_type": "markdown",
   "metadata": {},
   "source": [
    "### -> Domaine de définition"
   ]
  },
  {
   "cell_type": "markdown",
   "metadata": {},
   "source": [
    "Le **domaine de définition**:\n",
    "    - h: Height\n",
    "    - w : Width"
   ]
  },
  {
   "cell_type": "markdown",
   "metadata": {},
   "source": [
    "### -> Discrétisation ou Numérisation"
   ]
  },
  {
   "cell_type": "markdown",
   "metadata": {},
   "source": [
    "Dans notre définition mathématique, l'abscisse, l'ordonnée et l'intensité d'un point donné de l'image peuvent prendre n'importe quelle valeur réelle -> **modèle continu** ou **image analogique**. L'intensité lumineuse doit être définie en tout point du rectangle de dimension h×w \n",
    "\n",
    "Cette définition mathématique ajustée présente toutefois **des limites d'un point de vue pratique**, car elle suppose que **l'intensité lumineuse doit être définie en tout point du rectangle de dimension h×w.**\n",
    "\n",
    "        - Les capteurs des caméras et même nos yeux ne sont pas capables d'effectuer une infinité de mesures, à cause de leur résolution limitée\n",
    "        - Un Ordinateur ne peut comprendre que des données numériques -> i.e. discrètes qui présentent un nombre fini de valeur\n",
    "        \n",
    "Une image en informatique est ainsi une **discrétisation** – ou **numérisation** – de notre modèle continu : on l'appelle **image numérique**. Cette discrétisation se fait à la fois : \n",
    "        sur **l'ensemble de définition** de la fonction image (**échantillonnage**, ou sampling en anglais) \n",
    "        et sur son **ensemble d'arrivée** (**quantification**)."
   ]
  },
  {
   "cell_type": "markdown",
   "metadata": {},
   "source": [
    "### -> Echantillonage *[ensemble de définition]* & Quantification *[ensemble d'arrivée]*"
   ]
  },
  {
   "cell_type": "markdown",
   "metadata": {},
   "source": [
    "**L'échantillonnage** consiste à découper notre image continue suivant une grille régulière et à **associer une intensité à chacune de ses cellules**, appelées **pixels** (contraction des mots anglais picture element). En d'autres termes, on procède à **une discrétisation spatiale : seul un nombre fini de points de l'image continue est conservé**.\n",
    "\n",
    "**La quantification** consiste, quant à elle, à **limiter le nombre de valeurs différentes que peut prendre l'intensité**. Par exemple, les niveaux de gris concernent uniquement les entiers compris entre 0 (noir) et 255 (blanc), et les couleurs dans le modèle RGB sont déterminées par un triplet de niveaux de gris (rouge : (255,0,0), vert : (0,255,0) et bleu : (0,0,255))."
   ]
  },
  {
   "cell_type": "code",
   "execution_count": null,
   "metadata": {},
   "outputs": [],
   "source": [
    "from IPython.display import Image\n",
    "Image(filename=\"pictures/1.A.3\") "
   ]
  },
  {
   "cell_type": "markdown",
   "metadata": {},
   "source": [
    "### -> Définition vs. Résolution"
   ]
  },
  {
   "cell_type": "markdown",
   "metadata": {},
   "source": [
    "Une image numérique est caractérisée par sa **définition** et sa **résolution**.  \n",
    "\n",
    "La **définition** correspond à la **donnée hauteur × largeur** exprimée en pixels > En gros combien y'a t'il de petits carrés dans mon image ? \n",
    "\n",
    "La **résolution** désigne *le nombre de pixels par unité de longueur de l'image analogique*. Elle permet de mesurer la *qualité de l'image obtenue après numérisation* : **plus la résolution est élevée, meilleure est la qualité de l'image**. "
   ]
  },
  {
   "cell_type": "markdown",
   "metadata": {},
   "source": [
    "Le **nombre de mégapixels** (1 mégapixel = 1 million de pixels) mis en avant par les fabricants d'appareils photos **exprime la définition, et non la résolution.** Par exemple, une définition de 6000 × 4000 équivaut à 24 mégapixels.\n",
    "\n",
    "Ne vous laissez plus berner : **un plus grand nombre de mégapixels donne des photos de plus grande taille, mais pas forcément de meilleure qualité !**"
   ]
  },
  {
   "cell_type": "markdown",
   "metadata": {},
   "source": [
    "### -> JPEG vs. PNG vs. TIFF"
   ]
  },
  {
   "cell_type": "markdown",
   "metadata": {},
   "source": [
    "La différence se fait au niveau de la **compression de l'image** : la suite de bits représentant l'image numérique est transformée dans le fichier en une suite de bits plus courte, exprimant exactement les mêmes informations **(compression sans perte de données, comme PNG et TIFF)** ou des **informations proches (compression avec pertes, comme JPEG)**"
   ]
  },
  {
   "cell_type": "code",
   "execution_count": null,
   "metadata": {},
   "outputs": [],
   "source": [
    "from PIL import Image\n",
    "\n",
    "# Charger l'image\n",
    "img = Image.open(\"simba.png\") \n",
    "\n",
    "# Afficher l'image chargée\n",
    "img.show()"
   ]
  },
  {
   "cell_type": "code",
   "execution_count": null,
   "metadata": {},
   "outputs": [],
   "source": [
    "# Récupérer et afficher la taille de l'image (en pixels)\n",
    "w, h = img.size\n",
    "print(\"Largeur : {} px, hauteur : {} px\".format(w, h))"
   ]
  },
  {
   "cell_type": "markdown",
   "metadata": {},
   "source": [
    "Ce résultat signifie que l'image analogique a été découpée en **250 pixels** sur la **largeur** et **263 pixels** sur la **hauteur** pendant **l'échantillonnage**."
   ]
  },
  {
   "cell_type": "markdown",
   "metadata": {},
   "source": [
    "    - **Image.mode** informe sur le **format de pixel utilisé**, autrement dit sur la façon dont **la quantification a été faite**. \n",
    "    \n",
    "    - **Image.getpixel** permet de récupérer **l'intensité associée au pixel** à une position donnée."
   ]
  },
  {
   "cell_type": "code",
   "execution_count": null,
   "metadata": {},
   "outputs": [],
   "source": [
    "# Afficher son mode de quantification\n",
    "print(\"Format des pixels : {}\".format(img.mode))\n",
    "\n",
    "# Récupérer et afficher la valeur du pixel à une position précise\n",
    "px_value = img.getpixel((20,100))\n",
    "print(\"Valeur du pixel situé en (20,100) : {}\".format(px_value))"
   ]
  },
  {
   "cell_type": "markdown",
   "metadata": {},
   "source": [
    "**Le mode 'L'** signifie que les intensités sont **codées sur 8 bits**, ce qui est équivalent aux **256 niveaux de gris d'une image en noir et blanc**\n",
    "\n",
    "-> https://pillow.readthedocs.io/en/3.1.x/handbook/concepts.html#concept-modes"
   ]
  },
  {
   "cell_type": "code",
   "execution_count": null,
   "metadata": {},
   "outputs": [],
   "source": [
    "# Récupérer d'un seul coup les valeurs de tous les pixels de l'image\n",
    "\n",
    "import numpy as np\n",
    "\n",
    "# Récupérer les valeurs de tous les pixels sous forme d'une matrice\n",
    "mat = np.array(img)\n",
    "mat\n",
    "\n",
    "# Afficher la taille de la matrice de pixels\n",
    "print(\"Taille de la matrice de pixels : {}\".format(mat.shape))"
   ]
  },
  {
   "cell_type": "markdown",
   "metadata": {},
   "source": [
    "# 1.B Appliquez vos premiers traitements d'images"
   ]
  },
  {
   "cell_type": "code",
   "execution_count": null,
   "metadata": {},
   "outputs": [],
   "source": []
  },
  {
   "cell_type": "code",
   "execution_count": null,
   "metadata": {},
   "outputs": [],
   "source": []
  },
  {
   "cell_type": "code",
   "execution_count": null,
   "metadata": {},
   "outputs": [],
   "source": []
  },
  {
   "cell_type": "code",
   "execution_count": null,
   "metadata": {},
   "outputs": [],
   "source": []
  },
  {
   "cell_type": "code",
   "execution_count": null,
   "metadata": {},
   "outputs": [],
   "source": []
  },
  {
   "cell_type": "code",
   "execution_count": null,
   "metadata": {},
   "outputs": [],
   "source": []
  },
  {
   "cell_type": "code",
   "execution_count": null,
   "metadata": {},
   "outputs": [],
   "source": []
  },
  {
   "cell_type": "code",
   "execution_count": null,
   "metadata": {},
   "outputs": [],
   "source": []
  }
 ],
 "metadata": {
  "kernelspec": {
   "display_name": "Python 3",
   "language": "python",
   "name": "python3"
  },
  "language_info": {
   "codemirror_mode": {
    "name": "ipython",
    "version": 3
   },
   "file_extension": ".py",
   "mimetype": "text/x-python",
   "name": "python",
   "nbconvert_exporter": "python",
   "pygments_lexer": "ipython3",
   "version": "3.7.0"
  }
 },
 "nbformat": 4,
 "nbformat_minor": 2
}
